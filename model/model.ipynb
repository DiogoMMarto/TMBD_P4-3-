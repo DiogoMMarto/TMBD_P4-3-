{
 "cells": [
  {
   "cell_type": "code",
   "execution_count": 1,
   "metadata": {
    "_cell_guid": "b1076dfc-b9ad-4769-8c92-a6c4dae69d19",
    "_uuid": "8f2839f25d086af736a60e9eeb907d3b93b6e0e5",
    "execution": {
     "iopub.execute_input": "2025-01-11T12:28:20.914902Z",
     "iopub.status.busy": "2025-01-11T12:28:20.914436Z",
     "iopub.status.idle": "2025-01-11T12:28:24.167471Z",
     "shell.execute_reply": "2025-01-11T12:28:24.166739Z",
     "shell.execute_reply.started": "2025-01-11T12:28:20.914841Z"
    },
    "trusted": true
   },
   "outputs": [],
   "source": [
    "import numpy as np\n",
    "import pandas as pd\n",
    "import tensorflow as tf\n",
    "import os\n",
    "\n",
    "from PIL import Image\n",
    "\n",
    "from sklearn.metrics import f1_score, accuracy_score\n",
    "from sklearn.model_selection import train_test_split\n",
    "\n",
    "from tensorflow.keras.utils import to_categorical\n",
    "from tensorflow.keras.models import Sequential\n",
    "from tensorflow.keras.layers import Input, Conv2D, MaxPool2D, Dense, Flatten, Dropout"
   ]
  },
  {
   "cell_type": "code",
   "execution_count": null,
   "metadata": {},
   "outputs": [],
   "source": [
    "import kagglehub\n",
    "\n",
    "# Download latest version\n",
    "path = kagglehub.dataset_download(\"meowmeowmeowmeowmeow/gtsrb-german-traffic-sign\")\n",
    "\n",
    "print(\"Path to dataset files:\", path)"
   ]
  },
  {
   "cell_type": "code",
   "execution_count": 2,
   "metadata": {
    "execution": {
     "iopub.execute_input": "2025-01-11T12:29:20.345240Z",
     "iopub.status.busy": "2025-01-11T12:29:20.344941Z",
     "iopub.status.idle": "2025-01-11T12:30:45.584632Z",
     "shell.execute_reply": "2025-01-11T12:30:45.583594Z",
     "shell.execute_reply.started": "2025-01-11T12:29:20.345217Z"
    },
    "trusted": true
   },
   "outputs": [],
   "source": [
    "# Extract images and labels from folders\n",
    "\n",
    "data = []\n",
    "labels = []\n",
    "classes = 43\n",
    "\n",
    "for i in range(classes):\n",
    "    path = os.path.join(path,'/Train',str(i))\n",
    "    images = os.listdir(path)\n",
    "\n",
    "    for a in images:\n",
    "        try:\n",
    "            image = Image.open(path + '/'+ a)\n",
    "            image = image.resize((30,30))\n",
    "            image = np.array(image) / 255\n",
    "            data.append(image)\n",
    "            labels.append(i)\n",
    "        except:\n",
    "            print(\"Error loading image\")\n",
    "\n",
    "data = np.array(data)\n",
    "labels = np.array(labels)"
   ]
  },
  {
   "cell_type": "code",
   "execution_count": null,
   "metadata": {
    "execution": {
     "iopub.execute_input": "2025-01-11T12:30:45.586246Z",
     "iopub.status.busy": "2025-01-11T12:30:45.585908Z",
     "iopub.status.idle": "2025-01-11T12:30:45.826950Z",
     "shell.execute_reply": "2025-01-11T12:30:45.826170Z",
     "shell.execute_reply.started": "2025-01-11T12:30:45.586205Z"
    },
    "trusted": true
   },
   "outputs": [],
   "source": [
    "# Data split\n",
    "\n",
    "X_train, X_val, y_train, y_val = train_test_split(data, labels, test_size=0.2, random_state=42)\n",
    "print(X_train.shape, X_val.shape, y_train.shape, y_val.shape)\n",
    "\n",
    "y_train = to_categorical(y_train, 43)\n",
    "y_val = to_categorical(y_val, 43)"
   ]
  },
  {
   "cell_type": "code",
   "execution_count": null,
   "metadata": {
    "execution": {
     "iopub.execute_input": "2025-01-11T12:30:45.828523Z",
     "iopub.status.busy": "2025-01-11T12:30:45.828265Z",
     "iopub.status.idle": "2025-01-11T12:30:46.129380Z",
     "shell.execute_reply": "2025-01-11T12:30:46.128693Z",
     "shell.execute_reply.started": "2025-01-11T12:30:45.828502Z"
    },
    "trusted": true
   },
   "outputs": [],
   "source": [
    "# Build model\n",
    "\n",
    "model = Sequential([\n",
    "    Input(shape=(X_train.shape[1:])),\n",
    "    Conv2D(filters=32, kernel_size=(5, 5), activation='relu'),\n",
    "    Conv2D(filters=64, kernel_size=(5, 5), activation='relu'),\n",
    "    MaxPool2D(pool_size=(2, 2)),\n",
    "    Dropout(rate=0.15),\n",
    "    Conv2D(filters=128, kernel_size=(3, 3), activation='relu'),\n",
    "    Conv2D(filters=256, kernel_size=(3, 3), activation='relu'),\n",
    "    MaxPool2D(pool_size=(2, 2)),\n",
    "    Dropout(rate=0.20),\n",
    "    Flatten(),\n",
    "    Dense(512, activation='relu'),\n",
    "    Dropout(rate=0.25),\n",
    "    Dense(43, activation='softmax')\n",
    "])\n",
    "\n",
    "model.compile(\n",
    "    loss='categorical_crossentropy',\n",
    "    optimizer='adam',\n",
    "    metrics=['accuracy']\n",
    ")\n",
    "\n",
    "model.summary()"
   ]
  },
  {
   "cell_type": "code",
   "execution_count": null,
   "metadata": {
    "execution": {
     "iopub.execute_input": "2025-01-11T12:30:46.130968Z",
     "iopub.status.busy": "2025-01-11T12:30:46.130698Z",
     "iopub.status.idle": "2025-01-11T12:32:09.311580Z",
     "shell.execute_reply": "2025-01-11T12:32:09.310787Z",
     "shell.execute_reply.started": "2025-01-11T12:30:46.130945Z"
    },
    "trusted": true
   },
   "outputs": [],
   "source": [
    "# Train Model\n",
    "\n",
    "with tf.device('/GPU:0'):\n",
    "    epochs = 35\n",
    "    model.fit(X_train, y_train, batch_size=128, epochs=epochs, validation_data=(X_val, y_val))"
   ]
  },
  {
   "cell_type": "code",
   "execution_count": null,
   "metadata": {
    "execution": {
     "iopub.execute_input": "2025-01-11T12:32:09.312976Z",
     "iopub.status.busy": "2025-01-11T12:32:09.312700Z",
     "iopub.status.idle": "2025-01-11T12:32:12.997453Z",
     "shell.execute_reply": "2025-01-11T12:32:12.996581Z",
     "shell.execute_reply.started": "2025-01-11T12:32:09.312954Z"
    },
    "trusted": true
   },
   "outputs": [],
   "source": [
    "# Make predictions on train set\n",
    "\n",
    "with tf.device('/GPU:0'):\n",
    "    preds = np.argmax(model.predict(X_train), axis=-1)\n",
    "\n",
    "y_true = np.argmax(y_train, axis=-1)\n",
    "acc = accuracy_score(y_true, preds)\n",
    "f1 = f1_score(y_true, preds, average='weighted')\n",
    "\n",
    "print(f\"Accuracy: {acc}\")\n",
    "print(f\"F1 Score: {f1}\")"
   ]
  },
  {
   "cell_type": "code",
   "execution_count": 8,
   "metadata": {
    "execution": {
     "iopub.execute_input": "2025-01-11T12:32:12.998693Z",
     "iopub.status.busy": "2025-01-11T12:32:12.998332Z",
     "iopub.status.idle": "2025-01-11T12:32:39.257929Z",
     "shell.execute_reply": "2025-01-11T12:32:39.256781Z",
     "shell.execute_reply.started": "2025-01-11T12:32:12.998648Z"
    },
    "trusted": true
   },
   "outputs": [],
   "source": [
    "# Extract images from test folder\n",
    "\n",
    "test_details = pd.read_csv('data/Test.csv')\n",
    "\n",
    "data = []\n",
    "labels = test_details[\"ClassId\"].values\n",
    "imgs = test_details[\"Path\"].values\n",
    "\n",
    "with tf.device('/GPU:0'):\n",
    "    for img in imgs:\n",
    "        image = Image.open('data/' + img)\n",
    "        image = image.resize([30, 30])\n",
    "        image = np.array(image) / 255\n",
    "        data.append(image)\n",
    "\n",
    "X_test = np.array(data)"
   ]
  },
  {
   "cell_type": "code",
   "execution_count": null,
   "metadata": {
    "execution": {
     "iopub.execute_input": "2025-01-11T12:32:39.259307Z",
     "iopub.status.busy": "2025-01-11T12:32:39.258982Z",
     "iopub.status.idle": "2025-01-11T12:32:40.813710Z",
     "shell.execute_reply": "2025-01-11T12:32:40.812950Z",
     "shell.execute_reply.started": "2025-01-11T12:32:39.259272Z"
    },
    "trusted": true
   },
   "outputs": [],
   "source": [
    "# Make predictions on test set\n",
    "\n",
    "with tf.device('/GPU:0'):\n",
    "    preds = np.argmax(model.predict(X_test), axis=-1)\n",
    "\n",
    "acc = accuracy_score(labels, preds)\n",
    "f1 = f1_score(labels, preds, average='weighted')\n",
    "\n",
    "print(f\"Accuracy: {acc}\")\n",
    "print(f\"F1 Score: {f1}\")"
   ]
  },
  {
   "cell_type": "code",
   "execution_count": 10,
   "metadata": {
    "execution": {
     "iopub.execute_input": "2025-01-11T12:32:40.815592Z",
     "iopub.status.busy": "2025-01-11T12:32:40.815353Z",
     "iopub.status.idle": "2025-01-11T12:32:40.883580Z",
     "shell.execute_reply": "2025-01-11T12:32:40.882852Z",
     "shell.execute_reply.started": "2025-01-11T12:32:40.815572Z"
    },
    "trusted": true
   },
   "outputs": [],
   "source": [
    "# Save model\n",
    "\n",
    "model.save('traffic_sign_classifier.h5')"
   ]
  }
 ],
 "metadata": {
  "kaggle": {
   "accelerator": "gpu",
   "dataSources": [
    {
     "datasetId": 82373,
     "sourceId": 191501,
     "sourceType": "datasetVersion"
    }
   ],
   "dockerImageVersionId": 30823,
   "isGpuEnabled": true,
   "isInternetEnabled": true,
   "language": "python",
   "sourceType": "notebook"
  },
  "kernelspec": {
   "display_name": "main",
   "language": "python",
   "name": "python3"
  },
  "language_info": {
   "codemirror_mode": {
    "name": "ipython",
    "version": 3
   },
   "file_extension": ".py",
   "mimetype": "text/x-python",
   "name": "python",
   "nbconvert_exporter": "python",
   "pygments_lexer": "ipython3",
   "version": "3.12.2"
  }
 },
 "nbformat": 4,
 "nbformat_minor": 4
}
